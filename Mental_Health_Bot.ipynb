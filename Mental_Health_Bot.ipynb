{
  "nbformat": 4,
  "nbformat_minor": 0,
  "metadata": {
    "colab": {
      "provenance": [],
      "authorship_tag": "ABX9TyP4yH+8uEWo5ySBnDYHtNlH",
      "include_colab_link": true
    },
    "kernelspec": {
      "name": "python3",
      "display_name": "Python 3"
    },
    "language_info": {
      "name": "python"
    }
  },
  "cells": [
    {
      "cell_type": "markdown",
      "metadata": {
        "id": "view-in-github",
        "colab_type": "text"
      },
      "source": [
        "<a href=\"https://colab.research.google.com/github/alloysArtifexLabs/IMAGE-AI/blob/image-classifier/Mental_Health_Bot.ipynb\" target=\"_parent\"><img src=\"https://colab.research.google.com/assets/colab-badge.svg\" alt=\"Open In Colab\"/></a>"
      ]
    },
    {
      "cell_type": "code",
      "execution_count": 1,
      "metadata": {
        "colab": {
          "base_uri": "https://localhost:8080/"
        },
        "id": "U7Uxy-3EJmwj",
        "outputId": "0aa4b7e0-2d5c-4e5f-adfa-36dd472a4bb5"
      },
      "outputs": [
        {
          "output_type": "stream",
          "name": "stdout",
          "text": [
            "TensorFlow version: 2.18.0\n",
            "Pandas version: 2.2.2\n",
            "NumPy version: 1.26.4\n"
          ]
        }
      ],
      "source": [
        "# Install required libraries (uncomment if needed)\n",
        "# !pip install tensorflow==2.8.0\n",
        "# !pip install pandas numpy scikit-learn\n",
        "\n",
        "# Import packages and display versions for confirmation\n",
        "import tensorflow as tf\n",
        "import pandas as pd\n",
        "import numpy as np\n",
        "import sklearn\n",
        "import datetime\n",
        "import random\n",
        "\n",
        "print(\"TensorFlow version:\", tf.__version__)\n",
        "print(\"Pandas version:\", pd.__version__)\n",
        "print(\"NumPy version:\", np.__version__)\n"
      ]
    },
    {
      "cell_type": "code",
      "source": [
        "# Create a small labeled dataset for sentiment classification.\n",
        "# Labels: 0 = Negative, 1 = Neutral, 2 = Positive\n",
        "data = {\n",
        "    'text': [\n",
        "        \"I feel anxious today\",\n",
        "        \"I'm doing okay\",\n",
        "        \"I'm really happy\",\n",
        "        \"I am overwhelmed and stressed\",\n",
        "        \"Everything is fine\",\n",
        "        \"I love my life\",\n",
        "        \"I feel sad and depressed\",\n",
        "        \"Today was a tough day\",\n",
        "        \"I am feeling excited about tomorrow\",\n",
        "        \"I am not in a good mood\"\n",
        "    ],\n",
        "    'label': [0, 1, 2, 0, 1, 2, 0, 0, 2, 0]\n",
        "}\n",
        "\n",
        "df = pd.DataFrame(data)\n",
        "print(\"Sample Data:\")\n",
        "print(df.head())\n",
        "\n",
        "# Split the data into training and test sets.\n",
        "from sklearn.model_selection import train_test_split\n",
        "train_df, test_df = train_test_split(df, test_size=0.2, random_state=42)\n",
        "\n",
        "# Define text preprocessing using TensorFlow's TextVectorization.\n",
        "max_features = 1000     # Maximum vocabulary size\n",
        "sequence_length = 20    # Maximum sequence length\n",
        "\n",
        "vectorize_layer = tf.keras.layers.TextVectorization(\n",
        "    max_tokens=max_features,\n",
        "    output_mode='int',\n",
        "    output_sequence_length=sequence_length\n",
        ")\n",
        "\n",
        "# Adapt the vectorization layer on the training text.\n",
        "vectorize_layer.adapt(train_df['text'].values)\n"
      ],
      "metadata": {
        "colab": {
          "base_uri": "https://localhost:8080/"
        },
        "id": "d8gLDRfVJ50o",
        "outputId": "3b53709f-068a-4f80-bcbc-963237279971"
      },
      "execution_count": 2,
      "outputs": [
        {
          "output_type": "stream",
          "name": "stdout",
          "text": [
            "Sample Data:\n",
            "                            text  label\n",
            "0           I feel anxious today      0\n",
            "1                 I'm doing okay      1\n",
            "2               I'm really happy      2\n",
            "3  I am overwhelmed and stressed      0\n",
            "4             Everything is fine      1\n"
          ]
        }
      ]
    },
    {
      "cell_type": "code",
      "source": [
        "embedding_dim = 16  # Dimension for embedding\n",
        "\n",
        "model = tf.keras.Sequential([\n",
        "    vectorize_layer,  # Preprocessing layer (tokenizes and vectorizes text)\n",
        "    tf.keras.layers.Embedding(max_features, embedding_dim, name=\"embedding\"),\n",
        "    tf.keras.layers.GlobalAveragePooling1D(),\n",
        "    tf.keras.layers.Dense(16, activation='relu'),\n",
        "    tf.keras.layers.Dense(3, activation='softmax')  # 3 sentiment classes\n",
        "])\n",
        "\n",
        "model.compile(loss='sparse_categorical_crossentropy', optimizer='adam', metrics=['accuracy'])\n",
        "model.summary()\n"
      ],
      "metadata": {
        "colab": {
          "base_uri": "https://localhost:8080/",
          "height": 321
        },
        "id": "XrWhvbQJKHjk",
        "outputId": "f5549c9c-5440-4371-e002-27d895fc0589"
      },
      "execution_count": 3,
      "outputs": [
        {
          "output_type": "display_data",
          "data": {
            "text/plain": [
              "\u001b[1mModel: \"sequential\"\u001b[0m\n"
            ],
            "text/html": [
              "<pre style=\"white-space:pre;overflow-x:auto;line-height:normal;font-family:Menlo,'DejaVu Sans Mono',consolas,'Courier New',monospace\"><span style=\"font-weight: bold\">Model: \"sequential\"</span>\n",
              "</pre>\n"
            ]
          },
          "metadata": {}
        },
        {
          "output_type": "display_data",
          "data": {
            "text/plain": [
              "┏━━━━━━━━━━━━━━━━━━━━━━━━━━━━━━━━━━━━━━┳━━━━━━━━━━━━━━━━━━━━━━━━━━━━━┳━━━━━━━━━━━━━━━━━┓\n",
              "┃\u001b[1m \u001b[0m\u001b[1mLayer (type)                        \u001b[0m\u001b[1m \u001b[0m┃\u001b[1m \u001b[0m\u001b[1mOutput Shape               \u001b[0m\u001b[1m \u001b[0m┃\u001b[1m \u001b[0m\u001b[1m        Param #\u001b[0m\u001b[1m \u001b[0m┃\n",
              "┡━━━━━━━━━━━━━━━━━━━━━━━━━━━━━━━━━━━━━━╇━━━━━━━━━━━━━━━━━━━━━━━━━━━━━╇━━━━━━━━━━━━━━━━━┩\n",
              "│ text_vectorization                   │ ?                           │     \u001b[38;5;34m0\u001b[0m (unbuilt) │\n",
              "│ (\u001b[38;5;33mTextVectorization\u001b[0m)                  │                             │                 │\n",
              "├──────────────────────────────────────┼─────────────────────────────┼─────────────────┤\n",
              "│ embedding (\u001b[38;5;33mEmbedding\u001b[0m)                │ ?                           │     \u001b[38;5;34m0\u001b[0m (unbuilt) │\n",
              "├──────────────────────────────────────┼─────────────────────────────┼─────────────────┤\n",
              "│ global_average_pooling1d             │ ?                           │               \u001b[38;5;34m0\u001b[0m │\n",
              "│ (\u001b[38;5;33mGlobalAveragePooling1D\u001b[0m)             │                             │                 │\n",
              "├──────────────────────────────────────┼─────────────────────────────┼─────────────────┤\n",
              "│ dense (\u001b[38;5;33mDense\u001b[0m)                        │ ?                           │     \u001b[38;5;34m0\u001b[0m (unbuilt) │\n",
              "├──────────────────────────────────────┼─────────────────────────────┼─────────────────┤\n",
              "│ dense_1 (\u001b[38;5;33mDense\u001b[0m)                      │ ?                           │     \u001b[38;5;34m0\u001b[0m (unbuilt) │\n",
              "└──────────────────────────────────────┴─────────────────────────────┴─────────────────┘\n"
            ],
            "text/html": [
              "<pre style=\"white-space:pre;overflow-x:auto;line-height:normal;font-family:Menlo,'DejaVu Sans Mono',consolas,'Courier New',monospace\">┏━━━━━━━━━━━━━━━━━━━━━━━━━━━━━━━━━━━━━━┳━━━━━━━━━━━━━━━━━━━━━━━━━━━━━┳━━━━━━━━━━━━━━━━━┓\n",
              "┃<span style=\"font-weight: bold\"> Layer (type)                         </span>┃<span style=\"font-weight: bold\"> Output Shape                </span>┃<span style=\"font-weight: bold\">         Param # </span>┃\n",
              "┡━━━━━━━━━━━━━━━━━━━━━━━━━━━━━━━━━━━━━━╇━━━━━━━━━━━━━━━━━━━━━━━━━━━━━╇━━━━━━━━━━━━━━━━━┩\n",
              "│ text_vectorization                   │ ?                           │     <span style=\"color: #00af00; text-decoration-color: #00af00\">0</span> (unbuilt) │\n",
              "│ (<span style=\"color: #0087ff; text-decoration-color: #0087ff\">TextVectorization</span>)                  │                             │                 │\n",
              "├──────────────────────────────────────┼─────────────────────────────┼─────────────────┤\n",
              "│ embedding (<span style=\"color: #0087ff; text-decoration-color: #0087ff\">Embedding</span>)                │ ?                           │     <span style=\"color: #00af00; text-decoration-color: #00af00\">0</span> (unbuilt) │\n",
              "├──────────────────────────────────────┼─────────────────────────────┼─────────────────┤\n",
              "│ global_average_pooling1d             │ ?                           │               <span style=\"color: #00af00; text-decoration-color: #00af00\">0</span> │\n",
              "│ (<span style=\"color: #0087ff; text-decoration-color: #0087ff\">GlobalAveragePooling1D</span>)             │                             │                 │\n",
              "├──────────────────────────────────────┼─────────────────────────────┼─────────────────┤\n",
              "│ dense (<span style=\"color: #0087ff; text-decoration-color: #0087ff\">Dense</span>)                        │ ?                           │     <span style=\"color: #00af00; text-decoration-color: #00af00\">0</span> (unbuilt) │\n",
              "├──────────────────────────────────────┼─────────────────────────────┼─────────────────┤\n",
              "│ dense_1 (<span style=\"color: #0087ff; text-decoration-color: #0087ff\">Dense</span>)                      │ ?                           │     <span style=\"color: #00af00; text-decoration-color: #00af00\">0</span> (unbuilt) │\n",
              "└──────────────────────────────────────┴─────────────────────────────┴─────────────────┘\n",
              "</pre>\n"
            ]
          },
          "metadata": {}
        },
        {
          "output_type": "display_data",
          "data": {
            "text/plain": [
              "\u001b[1m Total params: \u001b[0m\u001b[38;5;34m0\u001b[0m (0.00 B)\n"
            ],
            "text/html": [
              "<pre style=\"white-space:pre;overflow-x:auto;line-height:normal;font-family:Menlo,'DejaVu Sans Mono',consolas,'Courier New',monospace\"><span style=\"font-weight: bold\"> Total params: </span><span style=\"color: #00af00; text-decoration-color: #00af00\">0</span> (0.00 B)\n",
              "</pre>\n"
            ]
          },
          "metadata": {}
        },
        {
          "output_type": "display_data",
          "data": {
            "text/plain": [
              "\u001b[1m Trainable params: \u001b[0m\u001b[38;5;34m0\u001b[0m (0.00 B)\n"
            ],
            "text/html": [
              "<pre style=\"white-space:pre;overflow-x:auto;line-height:normal;font-family:Menlo,'DejaVu Sans Mono',consolas,'Courier New',monospace\"><span style=\"font-weight: bold\"> Trainable params: </span><span style=\"color: #00af00; text-decoration-color: #00af00\">0</span> (0.00 B)\n",
              "</pre>\n"
            ]
          },
          "metadata": {}
        },
        {
          "output_type": "display_data",
          "data": {
            "text/plain": [
              "\u001b[1m Non-trainable params: \u001b[0m\u001b[38;5;34m0\u001b[0m (0.00 B)\n"
            ],
            "text/html": [
              "<pre style=\"white-space:pre;overflow-x:auto;line-height:normal;font-family:Menlo,'DejaVu Sans Mono',consolas,'Courier New',monospace\"><span style=\"font-weight: bold\"> Non-trainable params: </span><span style=\"color: #00af00; text-decoration-color: #00af00\">0</span> (0.00 B)\n",
              "</pre>\n"
            ]
          },
          "metadata": {}
        }
      ]
    },
    {
      "cell_type": "code",
      "source": [
        "# Prepare training and testing data\n",
        "x_train = train_df['text'].values\n",
        "y_train = train_df['label'].values\n",
        "x_test = test_df['text'].values\n",
        "y_test = test_df['label'].values\n",
        "\n",
        "# Train the model\n",
        "history = model.fit(x_train, y_train, epochs=10, validation_data=(x_test, y_test))\n",
        "\n",
        "# Evaluate the model on the test set\n",
        "loss, accuracy = model.evaluate(x_test, y_test)\n",
        "print(\"\\nTest Accuracy: {:.2f}%\".format(accuracy * 100))\n"
      ],
      "metadata": {
        "colab": {
          "base_uri": "https://localhost:8080/"
        },
        "id": "jHEKIpbnKQXY",
        "outputId": "cf54f305-02d4-413b-99f0-28183fe45bb0"
      },
      "execution_count": 4,
      "outputs": [
        {
          "output_type": "stream",
          "name": "stdout",
          "text": [
            "Epoch 1/10\n",
            "\u001b[1m1/1\u001b[0m \u001b[32m━━━━━━━━━━━━━━━━━━━━\u001b[0m\u001b[37m\u001b[0m \u001b[1m2s\u001b[0m 2s/step - accuracy: 0.2500 - loss: 1.1086 - val_accuracy: 0.5000 - val_loss: 1.0908\n",
            "Epoch 2/10\n",
            "\u001b[1m1/1\u001b[0m \u001b[32m━━━━━━━━━━━━━━━━━━━━\u001b[0m\u001b[37m\u001b[0m \u001b[1m0s\u001b[0m 183ms/step - accuracy: 0.2500 - loss: 1.1043 - val_accuracy: 0.5000 - val_loss: 1.0950\n",
            "Epoch 3/10\n",
            "\u001b[1m1/1\u001b[0m \u001b[32m━━━━━━━━━━━━━━━━━━━━\u001b[0m\u001b[37m\u001b[0m \u001b[1m0s\u001b[0m 133ms/step - accuracy: 0.2500 - loss: 1.1003 - val_accuracy: 0.5000 - val_loss: 1.0987\n",
            "Epoch 4/10\n",
            "\u001b[1m1/1\u001b[0m \u001b[32m━━━━━━━━━━━━━━━━━━━━\u001b[0m\u001b[37m\u001b[0m \u001b[1m0s\u001b[0m 96ms/step - accuracy: 0.2500 - loss: 1.0968 - val_accuracy: 0.5000 - val_loss: 1.1023\n",
            "Epoch 5/10\n",
            "\u001b[1m1/1\u001b[0m \u001b[32m━━━━━━━━━━━━━━━━━━━━\u001b[0m\u001b[37m\u001b[0m \u001b[1m0s\u001b[0m 108ms/step - accuracy: 0.2500 - loss: 1.0948 - val_accuracy: 0.5000 - val_loss: 1.1043\n",
            "Epoch 6/10\n",
            "\u001b[1m1/1\u001b[0m \u001b[32m━━━━━━━━━━━━━━━━━━━━\u001b[0m\u001b[37m\u001b[0m \u001b[1m0s\u001b[0m 125ms/step - accuracy: 0.3750 - loss: 1.0934 - val_accuracy: 0.0000e+00 - val_loss: 1.1060\n",
            "Epoch 7/10\n",
            "\u001b[1m1/1\u001b[0m \u001b[32m━━━━━━━━━━━━━━━━━━━━\u001b[0m\u001b[37m\u001b[0m \u001b[1m0s\u001b[0m 136ms/step - accuracy: 0.3750 - loss: 1.0920 - val_accuracy: 0.0000e+00 - val_loss: 1.1076\n",
            "Epoch 8/10\n",
            "\u001b[1m1/1\u001b[0m \u001b[32m━━━━━━━━━━━━━━━━━━━━\u001b[0m\u001b[37m\u001b[0m \u001b[1m0s\u001b[0m 95ms/step - accuracy: 0.7500 - loss: 1.0907 - val_accuracy: 0.0000e+00 - val_loss: 1.1083\n",
            "Epoch 9/10\n",
            "\u001b[1m1/1\u001b[0m \u001b[32m━━━━━━━━━━━━━━━━━━━━\u001b[0m\u001b[37m\u001b[0m \u001b[1m0s\u001b[0m 96ms/step - accuracy: 0.7500 - loss: 1.0896 - val_accuracy: 0.0000e+00 - val_loss: 1.1091\n",
            "Epoch 10/10\n",
            "\u001b[1m1/1\u001b[0m \u001b[32m━━━━━━━━━━━━━━━━━━━━\u001b[0m\u001b[37m\u001b[0m \u001b[1m0s\u001b[0m 157ms/step - accuracy: 0.6250 - loss: 1.0887 - val_accuracy: 0.0000e+00 - val_loss: 1.1099\n",
            "\u001b[1m1/1\u001b[0m \u001b[32m━━━━━━━━━━━━━━━━━━━━\u001b[0m\u001b[37m\u001b[0m \u001b[1m0s\u001b[0m 47ms/step - accuracy: 0.0000e+00 - loss: 1.1099\n",
            "\n",
            "Test Accuracy: 0.00%\n"
          ]
        }
      ]
    },
    {
      "cell_type": "code",
      "source": [
        "# --- Empathy & Resources Library ---\n",
        "\n",
        "# Empathy statements for supportive responses.\n",
        "empathy_statements = [\n",
        "    \"I'm here to listen.\",\n",
        "    \"I understand that can be difficult.\",\n",
        "    \"It sounds like you're going through a tough time.\",\n",
        "    \"Your feelings are important.\"\n",
        "]\n",
        "\n",
        "# Breathing exercises and stress relief tips.\n",
        "breathing_exercises = [\n",
        "    \"Try taking a slow deep breath in for 4 counts, hold for 4, and exhale for 4.\",\n",
        "    \"Consider a 5-5-5 breathing technique: breathe in for 5 seconds, hold for 5, and exhale for 5.\"\n",
        "]\n",
        "\n",
        "# Mental health resources and hotlines.\n",
        "mental_health_resources = [\n",
        "    \"National Suicide Prevention Lifeline: 988 (US only)\",\n",
        "    \"Crisis Text Line: Text HOME to 741741 (US only)\",\n",
        "    \"For UK: Samaritans - 116 123\",\n",
        "    \"Visit https://www.mentalhealth.gov/ for more resources.\"\n",
        "]\n",
        "\n",
        "# Dictionary to track user mood logs (in a real application, consider persistent storage).\n",
        "user_mood_logs = {}\n",
        "\n",
        "# --- Helper Functions ---\n",
        "\n",
        "def classify_sentiment(text):\n",
        "    \"\"\"Predict sentiment of the input text using the trained model.\"\"\"\n",
        "    prediction = model.predict([text])\n",
        "    sentiment = tf.argmax(prediction, axis=1).numpy()[0]\n",
        "    return sentiment\n",
        "\n",
        "def get_supportive_response(sentiment):\n",
        "    \"\"\"\n",
        "    Generate a supportive response based on the sentiment.\n",
        "    0: Negative, 1: Neutral, 2: Positive\n",
        "    \"\"\"\n",
        "    if sentiment == 0:\n",
        "        response = random.choice(empathy_statements) + \" It seems you're feeling down.\"\n",
        "        response += \"\\n\" + random.choice(breathing_exercises)\n",
        "        response += \"\\nIf you're feeling extremely distressed, please consider reaching out to a professional. \" + random.choice(mental_health_resources)\n",
        "    elif sentiment == 1:\n",
        "        response = \"Thanks for sharing. It sounds like things are okay. Remember, I'm here if you need someone to talk to.\"\n",
        "    elif sentiment == 2:\n",
        "        response = \"I'm glad to hear that you're feeling good! Keep up the positive vibes.\"\n",
        "    else:\n",
        "        response = \"I'm sorry, I didn't quite understand that. Could you please tell me more?\"\n",
        "    return response\n",
        "\n",
        "def record_mood(user_input, sentiment):\n",
        "    \"\"\"\n",
        "    Ask the user if they'd like to record their mood.\n",
        "    If yes, store the input text and sentiment along with a timestamp.\n",
        "    \"\"\"\n",
        "    record = input(\"Would you like to record your mood? (yes/no): \").strip().lower()\n",
        "    if record == 'yes':\n",
        "        timestamp = datetime.datetime.now().strftime(\"%Y-%m-%d %H:%M:%S\")\n",
        "        user_mood_logs[timestamp] = {'text': user_input, 'sentiment': sentiment}\n",
        "        print(\"Your mood has been recorded.\")\n",
        "    else:\n",
        "        print(\"No problem, I won't record your mood.\")\n",
        "\n",
        "def conversation_loop():\n",
        "    \"\"\"\n",
        "    Main conversation loop for the Mental Health & Well-Being Bot.\n",
        "\n",
        "    Disclaimer: This bot is designed for supportive interactions only and does not replace professional help.\n",
        "\n",
        "    To exit the conversation, type 'exit'.\n",
        "    \"\"\"\n",
        "    print(\"Welcome to the Mental Health & Well-Being Bot.\")\n",
        "    print(\"Disclaimer: I am not a substitute for professional help. If you are in crisis, please seek immediate assistance.\")\n",
        "    print(\"Type 'exit' at any time to end the conversation.\")\n",
        "\n",
        "    while True:\n",
        "        user_input = input(\"\\nYou: \")\n",
        "        if user_input.lower() == 'exit':\n",
        "            print(\"Thank you for chatting. Take care!\")\n",
        "            break\n",
        "\n",
        "        # Classify the sentiment of the user input.\n",
        "        sentiment = classify_sentiment(user_input)\n",
        "        # Get a supportive response based on the sentiment.\n",
        "        response = get_supportive_response(sentiment)\n",
        "        print(\"\\nBot:\", response)\n",
        "\n",
        "        # Ask if the user would like to record their mood.\n",
        "        record_mood(user_input, sentiment)\n",
        "\n",
        "# Start the conversation loop.\n",
        "conversation_loop()\n"
      ],
      "metadata": {
        "colab": {
          "base_uri": "https://localhost:8080/"
        },
        "id": "0Wj3n3eZKWWY",
        "outputId": "a47ab2f3-1c24-41be-c6fc-a578603ef8d6"
      },
      "execution_count": 9,
      "outputs": [
        {
          "output_type": "stream",
          "name": "stdout",
          "text": [
            "Welcome to the Mental Health & Well-Being Bot.\n",
            "Disclaimer: I am not a substitute for professional help. If you are in crisis, please seek immediate assistance.\n",
            "Type 'exit' at any time to end the conversation.\n",
            "\n",
            "You: exit\n",
            "Thank you for chatting. Take care!\n"
          ]
        }
      ]
    }
  ]
}